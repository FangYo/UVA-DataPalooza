{
 "cells": [
  {
   "cell_type": "markdown",
   "metadata": {},
   "source": [
    "#### Import Libraries"
   ]
  },
  {
   "cell_type": "code",
   "execution_count": null,
   "metadata": {},
   "outputs": [],
   "source": [
    "import os\n",
    "import pandas as pd\n",
    "\n",
    "import dash\n",
    "import dash_core_components as dcc\n",
    "import dash_html_components as html\n",
    "import dash_table_experiments as dte\n",
    "from dash.dependencies import Input, Output, State\n",
    "\n",
    "import plotly.graph_objs as go\n",
    "from plotly import tools"
   ]
  },
  {
   "cell_type": "markdown",
   "metadata": {},
   "source": [
    "#### Set Log File"
   ]
  },
  {
   "cell_type": "code",
   "execution_count": null,
   "metadata": {},
   "outputs": [],
   "source": [
    "LOGFILE = 'C:/Users/596596/Documents/GitHub/UVA-DataPalooza/data/predictions_for_plotly.csv'\n",
    "DATA = pd.read_csv(LOGFILE)\n",
    "dataframes = {'DATA': DATA}"
   ]
  },
  {
   "cell_type": "markdown",
   "metadata": {},
   "source": [
    "#### Create Plotly Dash Application & Server"
   ]
  },
  {
   "cell_type": "code",
   "execution_count": null,
   "metadata": {},
   "outputs": [],
   "source": [
    "app = dash.Dash(\"UVA DataPalooza Plotly Dash Appication\", static_folder='assets')\n",
    "server = app.server"
   ]
  },
  {
   "cell_type": "markdown",
   "metadata": {},
   "source": [
    "#### Create Data Object Method"
   ]
  },
  {
   "cell_type": "code",
   "execution_count": null,
   "metadata": {},
   "outputs": [],
   "source": [
    "def get_data_object(user_selection):\n",
    "    \"\"\"\n",
    "    For user selections, return the relevant in-memory data frame.\n",
    "    \"\"\"\n",
    "    return dataframes[user_selection]"
   ]
  },
  {
   "cell_type": "markdown",
   "metadata": {},
   "source": [
    "#### Create Application Layout"
   ]
  },
  {
   "cell_type": "code",
   "execution_count": null,
   "metadata": {},
   "outputs": [],
   "source": [
    "app.layout = html.Div([\n",
    "    html.Div([\n",
    "        \n",
    "        html.Div([\n",
    "            html.Div([\n",
    "                html.Img(src='/assets/uva-datapalooza-2018.png', style={'width':'100%', 'height':'100%'})\n",
    "            ], className='six columns'),\n",
    "            \n",
    "            html.Div([\n",
    "                html.H2('Plotly Dash Demonstration'),\n",
    "                html.H2('Stack Over Flow Questions Analysis')\n",
    "            ], className='five columns offset-by-one'),\n",
    "            \n",
    "        ], className='row'),\n",
    "        \n",
    "        html.Br([]),\n",
    "        \n",
    "        dcc.Dropdown(\n",
    "            id='field-dropdown',\n",
    "            options=[{'label': df, 'value': df} for df in dataframes],\n",
    "            value='DATA',\n",
    "            clearable=False),\n",
    "        \n",
    "        html.Br([]),\n",
    "        \n",
    "        dte.DataTable(\n",
    "            rows=[{}],\n",
    "            row_selectable=True,\n",
    "            filterable=True,\n",
    "            sortable=True,\n",
    "            selected_row_indices=[],\n",
    "            id='table'),\n",
    "        \n",
    "        html.Br([]),\n",
    "        \n",
    "        dcc.Graph(id='dot-graph')\n",
    "        \n",
    "    ], className='eleven columns')\n",
    "\n",
    "], className='container')"
   ]
  },
  {
   "cell_type": "markdown",
   "metadata": {},
   "source": [
    "#### Create Application Callbacks"
   ]
  },
  {
   "cell_type": "code",
   "execution_count": null,
   "metadata": {},
   "outputs": [],
   "source": [
    "@app.callback(Output('table', 'rows'), [Input('field-dropdown', 'value')])\n",
    "def update_table(user_selection):\n",
    "    df = get_data_object(user_selection)\n",
    "    return df.to_dict('records')\n",
    "\n",
    "\n",
    "@app.callback(Output('dot-graph', 'figure'), [Input('field-dropdown', 'value')])\n",
    "def update_dot_graph(user_selection):\n",
    "    df = get_data_object(user_selection)\n",
    "\n",
    "    trace1 = go.Scatter(\n",
    "        y = df.Actual[:10].unique(), \n",
    "        x = df.index[:10], \n",
    "        marker = dict(color = \"orange\", size = 12), \n",
    "        mode = \"markers\", \n",
    "        name = \"Actual\")\n",
    "\n",
    "    trace2 = go.Scatter(\n",
    "        y = df.Predictions[:10].unique(), \n",
    "        x = df.index[:10], \n",
    "        marker = dict(color = \"blue\", size = 12), \n",
    "        mode = \"markers\", \n",
    "        name = \"Predictions\")\n",
    "    \n",
    "    return {\n",
    "        'data': [trace1, trace2],\n",
    "        'layout': {'title': 'Stack Overflow Questions',\n",
    "                   'xaxis': {'title': 'Actual'},\n",
    "                   'yaxis': {'title': 'Predicted'}\n",
    "                  }\n",
    "    }"
   ]
  },
  {
   "cell_type": "markdown",
   "metadata": {},
   "source": [
    "#### Run Application"
   ]
  },
  {
   "cell_type": "code",
   "execution_count": null,
   "metadata": {},
   "outputs": [],
   "source": [
    "external_css = [\n",
    "    \"https://cdnjs.cloudflare.com/ajax/libs/normalize/7.0.0/normalize.min.css\",\n",
    "    \"https://maxcdn.bootstrapcdn.com/font-awesome/4.7.0/css/font-awesome.min.css\",\n",
    "    \"https://fonts.googleapis.com/css?family=Open+Sans|Roboto\",\n",
    "    \"https://codepen.io/mrushin/pen/bQVEgg.css\",\n",
    "]\n",
    "\n",
    "for css in external_css:\n",
    "    app.css.append_css({\"external_url\": css})\n",
    "\n",
    "if __name__ == '__main__':\n",
    "    app.run_server(debug=False)"
   ]
  }
 ],
 "metadata": {
  "kernelspec": {
   "display_name": "Python (uva-datapalooza)",
   "language": "python",
   "name": "uva-datapalooza"
  },
  "language_info": {
   "codemirror_mode": {
    "name": "ipython",
    "version": 3
   },
   "file_extension": ".py",
   "mimetype": "text/x-python",
   "name": "python",
   "nbconvert_exporter": "python",
   "pygments_lexer": "ipython3",
   "version": "3.6.6"
  },
  "toc": {
   "base_numbering": 1,
   "nav_menu": {},
   "number_sections": true,
   "sideBar": true,
   "skip_h1_title": false,
   "title_cell": "Table of Contents",
   "title_sidebar": "Contents",
   "toc_cell": false,
   "toc_position": {
    "height": "calc(100% - 180px)",
    "left": "10px",
    "top": "150px",
    "width": "341.333px"
   },
   "toc_section_display": true,
   "toc_window_display": true
  }
 },
 "nbformat": 4,
 "nbformat_minor": 2
}
